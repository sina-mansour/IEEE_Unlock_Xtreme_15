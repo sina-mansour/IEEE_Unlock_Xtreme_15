{
 "cells": [
  {
   "cell_type": "markdown",
   "id": "f1ba866f-025b-4350-b9a7-6673435f38b1",
   "metadata": {
    "tags": []
   },
   "source": [
    "---\n",
    "\n",
    "# **IEEE Unlock Xtreme 15.0** series\n",
    "\n",
    "Organised by the IEEE student branch at the University of Melbourne\n",
    "\n",
    "<img src=\"../static/IEEE.png\" alt=\"IEEE\" style=\"height: 100px;\"/> <img src=\"../static/IEEE UniMelb SB Logo_Black.png\" alt=\"IEEE student branch, The University of Melbourne\" style=\"height: 100px;\"/>\n",
    "\n",
    "---\n"
   ]
  },
  {
   "cell_type": "markdown",
   "id": "37571abd-dfd5-47ea-9672-74a1c4300ff0",
   "metadata": {},
   "source": [
    "# Introduction to programming with **Python** \n",
    "\n",
    "[![Open In Colab](https://colab.research.google.com/assets/colab-badge.svg)](https://colab.research.google.com/github/sina-mansour/IEEE_Unlock_Xtreme_15/blob/main/notebooks/Introduction_to_programming_with_Python.ipynb)\n",
    "\n",
    "---\n"
   ]
  },
  {
   "cell_type": "markdown",
   "id": "8725c483-ce4a-4f48-8223-3eaaae05b4ad",
   "metadata": {
    "tags": []
   },
   "source": [
    "## 00. Introduction to Python programming\n",
    "\n",
    "---\n"
   ]
  },
  {
   "cell_type": "markdown",
   "id": "9e250cb0-c68b-46ff-8209-78a9e4f1c14b",
   "metadata": {},
   "source": [
    "<img src=\"../static/Python_logo.png\" alt=\"Python\" style=\"width: 200px;\"/>\n",
    "\n",
    "A popular programming language used in a variety of applications (web-development, data analysis, machine learning, etc.).\n"
   ]
  },
  {
   "cell_type": "markdown",
   "id": "10855b57-c728-44f8-8158-4ea61b65f618",
   "metadata": {},
   "source": [
    "---\n",
    "\n",
    "#### Python can ...\n",
    "\n",
    "- Be used as a web-server.\n",
    "- Run scripts for automation and create workflows.\n",
    "- Connect to & manage databases.\n",
    "- Read and modify files.\n",
    "- Handle big data and perform complex math.\n",
    "- Perform data analyses.\n",
    "- Rapid software prototyping.\n",
    "\n"
   ]
  },
  {
   "cell_type": "markdown",
   "id": "4245487a-18f0-434c-91cf-ae2051b4bbed",
   "metadata": {},
   "source": [
    "---\n",
    "\n",
    "#### Why Python?\n",
    "\n",
    "- Works on different platforms.\n",
    "- Simple syntax similar to english.\n",
    "- Lets the programmer write programs with fewer lines of code.\n",
    "- Quick prototyping platform.\n",
    "- Flexible language, i.e. can be used in many ways.\n"
   ]
  },
  {
   "cell_type": "markdown",
   "id": "d2b8f6d2-dc3e-47b0-b310-6c5a6108940c",
   "metadata": {},
   "source": [
    "---\n",
    "\n",
    "#### Which Python?\n",
    "\n",
    "- We’ll use Python3.\n",
    "- You can use it online for this tutorial...\n",
    "- An IDE is recommended for constant use: [PyCharm](https://www.jetbrains.com/pycharm/), [IDLE](https://docs.python.org/3/library/idle.html), [Thonny](https://thonny.org/), [PyDev](https://www.pydev.org/), ...\n",
    "- In addition to the colab platform, feel free to try out [this online python compiler](https://replit.com/languages/python3) before installation."
   ]
  },
  {
   "cell_type": "markdown",
   "id": "307033d4-15b3-4961-94b1-ce908cb84285",
   "metadata": {
    "tags": []
   },
   "source": [
    "---\n",
    "\n",
    "## 1. Fundamentals of Python programming\n",
    "\n",
    "---\n"
   ]
  },
  {
   "cell_type": "markdown",
   "id": "c6bce50e-ff5a-45ff-adc0-28321e209a8b",
   "metadata": {},
   "source": [
    "---\n",
    "\n",
    "### 1.01 Hello World!\n",
    "\n",
    "The first step to learn any programming language is to print something to the screen!\n",
    "\n",
    "You can use the `print()` function in python to do that.\n"
   ]
  },
  {
   "cell_type": "code",
   "execution_count": null,
   "id": "139e417b-40df-484a-8704-47348e9b8d3d",
   "metadata": {},
   "outputs": [],
   "source": [
    "print(\"Hello, World!\")\n"
   ]
  },
  {
   "cell_type": "markdown",
   "id": "82dac6db-738b-4b13-876b-601b50f59cd8",
   "metadata": {
    "tags": []
   },
   "source": [
    "---\n",
    "\n",
    "### 1.02 Read user input\n",
    "\n",
    "Next, you may want to ask the user for some input.\n",
    "\n",
    "You can use the `input()` function in python to do that.\n",
    "\n",
    "In the cell bellow, you can try reading an input, and printing it on the screen:\n"
   ]
  },
  {
   "cell_type": "code",
   "execution_count": null,
   "id": "468192ff-f43f-4d7d-99f6-810b250dd02f",
   "metadata": {},
   "outputs": [],
   "source": [
    "print(input())\n"
   ]
  },
  {
   "cell_type": "markdown",
   "id": "37f00559-8002-429e-b716-de22ebf38a44",
   "metadata": {},
   "source": [
    "When is that ever going to be useful?\n",
    "\n",
    "Take a look at the code bellow, can you guess what it does?\n"
   ]
  },
  {
   "cell_type": "code",
   "execution_count": null,
   "id": "0131d997-45cc-4a9b-8fa8-fd26077019b8",
   "metadata": {},
   "outputs": [],
   "source": [
    "username = input(\"Enter username:\")\n",
    "print(\"Username is: \" + username)\n"
   ]
  },
  {
   "cell_type": "markdown",
   "id": "bbf5ab84-cf1a-4ba5-8d00-9d542b3bbbdd",
   "metadata": {
    "tags": []
   },
   "source": [
    "---\n",
    "\n",
    "### 1.03 Writing comments\n",
    "\n",
    "As you might have exprienced this for a moment when trying to figure out what the code snippet above did, programmin code is not always human readable.\n",
    "\n",
    "That's why, we humans need to (read have to!) write helpful comments to make our code more readable.\n",
    "\n",
    "Python ignores anything written after a `#`. So you can use this functionality to describe your code for other people who'll read it.\n",
    "\n",
    "Take a look at the example bellow:\n"
   ]
  },
  {
   "cell_type": "code",
   "execution_count": null,
   "id": "1f8053c7-e38e-4b15-af0c-74716963db57",
   "metadata": {},
   "outputs": [],
   "source": [
    "# store username from user input\n",
    "username = input(\"Enter username:\")\n",
    "\n",
    "# print the stored username\n",
    "print(\"Username is: \" + username)\n"
   ]
  },
  {
   "cell_type": "markdown",
   "id": "dfce955b-17d8-484b-a176-dc21b97ad5c1",
   "metadata": {
    "tags": []
   },
   "source": [
    "---\n",
    "\n",
    "### 1.04 Variables\n",
    "\n",
    "A *variable* is a way to store something in memory for later use. We've seen examples of variables in previous bits of code that we've looked at.\n",
    "\n",
    "You simply give a variable a name and **assign** some value to it using the `=` operator. After assignment, every time you **call** that variable, the stored value will be returned.\n",
    "\n",
    "Here we used a variable named `username` to store the user's input for later use:\n"
   ]
  },
  {
   "cell_type": "code",
   "execution_count": null,
   "id": "ee850517-997b-4ae4-a65f-cbd4791d051e",
   "metadata": {},
   "outputs": [],
   "source": [
    "# store username from user input\n",
    "username = input(\"Enter username:\")\n"
   ]
  },
  {
   "cell_type": "markdown",
   "id": "01c0d8b7-e8f3-4185-a7d5-04859c3485d2",
   "metadata": {},
   "source": [
    "Here are a few more examples of assigning a variable:"
   ]
  },
  {
   "cell_type": "code",
   "execution_count": null,
   "id": "31f574fb-461e-45c7-9072-7b2133101af4",
   "metadata": {},
   "outputs": [],
   "source": [
    "# variable assignment using =\n",
    "\n",
    "x = 5\n",
    "y = \"Sina\"\n"
   ]
  },
  {
   "cell_type": "markdown",
   "id": "fe384e52-81f5-4217-8e2f-e6638cdd96f9",
   "metadata": {},
   "source": [
    "You can use the stored variables later:"
   ]
  },
  {
   "cell_type": "code",
   "execution_count": null,
   "id": "87133da9-3be7-446c-ba16-15bad3bfbcb5",
   "metadata": {},
   "outputs": [],
   "source": [
    "print(x,y)\n"
   ]
  },
  {
   "cell_type": "markdown",
   "id": "a523d27e-c695-4417-b725-8748bfc46898",
   "metadata": {
    "tags": []
   },
   "source": [
    "---\n",
    "\n",
    "### 1.05 Python Data types\n",
    "\n",
    "In python stored variables can have different *types*. For example if you want to store someone's name (a piece of text) the type of that variable is going to be different from when you want to store their age (a number).\n",
    "\n",
    "Here is a list of some of the fundamental python data types that you may commonly want to use:\n",
    "\n",
    "| Data stored | Data types | Example |\n",
    "| --- | --- | --- |\n",
    "| Text | `str` | `\"Hello\"` |\n",
    "| Numeric | `int, float, complex` | `2.5` |\n",
    "| Boolean | `bool` | `True` |\n",
    "| Sequence | `list, tuple, range` | `[1, 2, 3]` |\n",
    "| Key Value pair | `dict` | `{\"name\": \"John Doe\", \"age\": 25}` |\n",
    "| Set | `set` | `{\"apple\", \"banana\", \"kiwi\"}` |\n"
   ]
  },
  {
   "cell_type": "code",
   "execution_count": null,
   "id": "e9150af6-9c04-490a-af02-32b4713f8d20",
   "metadata": {},
   "outputs": [],
   "source": [
    "# str\n",
    "a = \"hello\"\n",
    "\n",
    "# int\n",
    "b = 2\n",
    "\n",
    "# float\n",
    "c = 3.4\n",
    "\n",
    "# bool\n",
    "d = True\n",
    "e = False\n"
   ]
  },
  {
   "cell_type": "markdown",
   "id": "3670513e-afd5-4478-bb57-0201da8df526",
   "metadata": {},
   "source": [
    "You can use the `type()` function to check the data type of a variable:"
   ]
  },
  {
   "cell_type": "code",
   "execution_count": null,
   "id": "e53ce426-da47-4719-9390-4e3c06613ddb",
   "metadata": {},
   "outputs": [],
   "source": [
    "# checking a variable’s data type:\n",
    "\n",
    "print(type(a))\n"
   ]
  },
  {
   "cell_type": "markdown",
   "id": "bb7397d4-4c83-4911-8e90-b08c645daeeb",
   "metadata": {
    "tags": []
   },
   "source": [
    "---\n",
    "\n",
    "### 1.06 Casting variables\n",
    "\n",
    "**Casting** is the term used for specifying/forcing a type for a variable.\n",
    "\n",
    "Functions `int()`, `float()`, and `str()` are some example casting functions which force their input to be stored as the specified type.\n",
    "\n",
    "Take a look at the examples below:\n"
   ]
  },
  {
   "cell_type": "code",
   "execution_count": null,
   "id": "64bd8912-3bb6-4478-a693-e9181ca6a12c",
   "metadata": {},
   "outputs": [],
   "source": [
    "# casting a variable to int:\n",
    "\n",
    "x = int(1)\t\t\t\t# x will be 1\n",
    "y = int(2.8)\t\t\t# y will be 2\n",
    "z = int(\"3\")\t\t\t# z will be 3\n"
   ]
  },
  {
   "cell_type": "code",
   "execution_count": null,
   "id": "d304c4f6-d7cb-4984-8025-542b4ad77397",
   "metadata": {},
   "outputs": [],
   "source": [
    "# casting a variable to float:\n",
    "\n",
    "x = float(1)\t\t\t# x will be 1.0\n",
    "y = float(2.8)\t\t\t# y will be 2.8\n",
    "z = float(\"3\")\t\t\t# z will be 3.0\n",
    "w = float(\"4.2\")\t\t# w will be 4.2\n"
   ]
  },
  {
   "cell_type": "code",
   "execution_count": null,
   "id": "bdc1f555-1d12-4604-bc84-52d19ca0e799",
   "metadata": {},
   "outputs": [],
   "source": [
    "# casting a variable to string:\n",
    "\n",
    "x = str(\"s1\") \t\t\t# x will be 's1'\n",
    "y = str(2)    \t\t\t# y will be '2'\n",
    "z = str(3.0)  \t\t\t# z will be '3.0'\n"
   ]
  },
  {
   "cell_type": "markdown",
   "id": "af5bc255-285f-48e2-a121-62d4677e0c93",
   "metadata": {},
   "source": [
    "In the cell bellow, try modifying the code where needed to take someone's age and compute their age:\n",
    "\n",
    "(hint: You can use casting to convert a string of text into an integer)"
   ]
  },
  {
   "cell_type": "code",
   "execution_count": null,
   "id": "75e243b4-226e-49fc-ab36-6c7880774c5a",
   "metadata": {},
   "outputs": [],
   "source": [
    "# sample application of casting:\n",
    "# ask a user their birth year, tell them their age!\n",
    "\n",
    "# read birth year from user input\n",
    "birth_year = input(\"What year were you born?\")\n",
    "\n",
    "# cast the input into an integer\n",
    "birth_year_int = int(birth_year)\n",
    "\n",
    "# compute their age\n",
    "age = 2021 - birth_year_int\n",
    "\n",
    "# Print their age\n",
    "print(\"You should be about \" + str(age) + \" years old now!\")\n",
    "\n"
   ]
  },
  {
   "cell_type": "markdown",
   "id": "896f86c7-4516-48a5-b57e-3096dfabe9b1",
   "metadata": {
    "tags": []
   },
   "source": [
    "---\n",
    "\n",
    "### 1.07 Strings\n",
    "\n",
    "Let's have a closer look at the `str` data type, and what we can do with it.\n",
    "\n",
    "Strings can either be defined with `'` or `\"`. Take a look at the example below:\n"
   ]
  },
  {
   "cell_type": "code",
   "execution_count": null,
   "id": "544f55c1-cc5e-4cee-90bf-c7cb151dfa68",
   "metadata": {},
   "outputs": [],
   "source": [
    "# strings store an ordered list of characters:\n",
    "\n",
    "print('Hello')\n",
    "print(\"Hello\")\n"
   ]
  },
  {
   "cell_type": "markdown",
   "id": "f1699692-6312-4c91-9e96-e84a798de0ed",
   "metadata": {},
   "source": [
    "You can define a multiline string by using `\"\"\"`:"
   ]
  },
  {
   "cell_type": "code",
   "execution_count": null,
   "id": "8d372542-08c2-41b1-be60-aa93048a8198",
   "metadata": {},
   "outputs": [],
   "source": [
    "# storing a multiline string:\n",
    "\n",
    "a = \"\"\"Lorem ipsum dolor sit amet,\n",
    "consectetur adipiscing elit,\n",
    "sed do eiusmod tempor incididunt\n",
    "ut labore et dolore magna aliqua.\"\"\"\n",
    "print(a)\n"
   ]
  },
  {
   "cell_type": "markdown",
   "id": "2809c795-38c2-47bc-b146-7ea1b0c9f266",
   "metadata": {},
   "source": [
    "- indexing\n",
    "\n",
    "You can index into a string to print a single character from that string. Simply use `[]` for indexing:\n"
   ]
  },
  {
   "cell_type": "code",
   "execution_count": null,
   "id": "266cdd23-18d4-4dd0-94d9-85938c6d665c",
   "metadata": {},
   "outputs": [],
   "source": [
    "# indexing into a string to get a single character:\n",
    "\n",
    "a = \"Hello, World!\"\n",
    "print(a[1])\n"
   ]
  },
  {
   "cell_type": "markdown",
   "id": "da3fc6f2-ad36-429e-b569-d6781e2d5781",
   "metadata": {},
   "source": [
    "You may also use the indexing syntax to get a subset of the string:"
   ]
  },
  {
   "cell_type": "code",
   "execution_count": null,
   "id": "3e3663de-0e6c-46cf-8996-06a06aa3f2b9",
   "metadata": {},
   "outputs": [],
   "source": [
    "# subset of characters counting from start, position 2 to 5:\n",
    "print(a[2:5])\n"
   ]
  },
  {
   "cell_type": "code",
   "execution_count": null,
   "id": "9e813b77-74d7-4ebd-a262-0f4c5917a2f8",
   "metadata": {},
   "outputs": [],
   "source": [
    "# subset of characters counting from the end, from 5th to 2nd to the end:\n",
    "print(a[-5:-2])\n"
   ]
  },
  {
   "cell_type": "markdown",
   "id": "774a0b92-5d17-4261-961e-f09dcc0a1cea",
   "metadata": {},
   "source": [
    "- functions for strings\n",
    "\n",
    "You can use the `len()` function to get the length of a string type variable:\n"
   ]
  },
  {
   "cell_type": "code",
   "execution_count": null,
   "id": "8db6328a-0d43-49fa-ae00-10c6941c2d79",
   "metadata": {},
   "outputs": [],
   "source": [
    "print(len(a))\n"
   ]
  },
  {
   "cell_type": "markdown",
   "id": "7c0ec84b-ffba-4260-983e-4ad02eac9397",
   "metadata": {},
   "source": [
    "Python has some string manipulation functions, some of which are explained here:\n"
   ]
  },
  {
   "cell_type": "code",
   "execution_count": null,
   "id": "b96c1908-6273-4e07-9139-4003a6f81134",
   "metadata": {},
   "outputs": [],
   "source": [
    "a = \"   Hello, World!   \"\n"
   ]
  },
  {
   "cell_type": "markdown",
   "id": "dfc38e2e-15e3-46d2-9c31-57879d4cf119",
   "metadata": {},
   "source": [
    "`strip()` can be used to remove white space from around a string:\n"
   ]
  },
  {
   "cell_type": "code",
   "execution_count": null,
   "id": "2d1cbf98-1ec4-460e-9bbf-639c2676d321",
   "metadata": {},
   "outputs": [],
   "source": [
    "print(a.strip())\t\t\t# returns \"Hello, World!\"\n"
   ]
  },
  {
   "cell_type": "markdown",
   "id": "5c266dcb-4703-44eb-b2d9-79189ca58214",
   "metadata": {},
   "source": [
    "`lower()` can be used to convert all characters to lower case:\n"
   ]
  },
  {
   "cell_type": "code",
   "execution_count": null,
   "id": "abd65987-2189-4208-9030-c1e4587c6371",
   "metadata": {},
   "outputs": [],
   "source": [
    "print(a.lower())\t\t# returns \"   hello, world!   \"\n"
   ]
  },
  {
   "cell_type": "markdown",
   "id": "3625858b-db87-4fbb-aee5-75f775f318ca",
   "metadata": {},
   "source": [
    "`upper()` can be used to convert all characters to upper case:\n"
   ]
  },
  {
   "cell_type": "code",
   "execution_count": null,
   "id": "16ecfa1a-d559-4aeb-880b-81b1bc96cdb1",
   "metadata": {},
   "outputs": [],
   "source": [
    "print(a.upper())\t\t# returns \"   HELLO, WORLD!   \"\n"
   ]
  },
  {
   "cell_type": "markdown",
   "id": "8752a2b6-13a2-4edc-a0a7-b9076222985d",
   "metadata": {},
   "source": [
    "`replace()` can be used to replace all instances of a character in the string with a replacement character:\n"
   ]
  },
  {
   "cell_type": "code",
   "execution_count": null,
   "id": "f5486894-4625-4415-851c-4b938ad304ae",
   "metadata": {},
   "outputs": [],
   "source": [
    "print(a.replace(\"l\", \"J\"))\t# returns \"   HeJJo, WorJd!   \"\n"
   ]
  },
  {
   "cell_type": "markdown",
   "id": "6ba2323a-d5ea-442f-92f8-095171c461c0",
   "metadata": {},
   "source": [
    "`split()` can be used to split a string into a list of substrings divided by a certain delimeter:\n"
   ]
  },
  {
   "cell_type": "code",
   "execution_count": null,
   "id": "7cec33f6-ea35-41bb-b230-4b7bea83130b",
   "metadata": {},
   "outputs": [],
   "source": [
    "print(a.split(\",\"))\t\t# returns ['   Hello', ' World!   ']\n"
   ]
  },
  {
   "cell_type": "markdown",
   "id": "57b03643-295d-4e46-9c81-d3049124dd73",
   "metadata": {},
   "source": [
    "`in` can be used to check if a substring exists in another string:\n"
   ]
  },
  {
   "cell_type": "code",
   "execution_count": null,
   "id": "a68e8757-c00c-45f7-81fc-81b46c037389",
   "metadata": {},
   "outputs": [],
   "source": [
    "print('ello' in a)\t\t\t# returns True\n"
   ]
  },
  {
   "cell_type": "code",
   "execution_count": null,
   "id": "ca8144be-5a37-4210-a3e1-e3c3b8828279",
   "metadata": {},
   "outputs": [],
   "source": [
    "print('allo' in a)\t\t\t# returns False\n"
   ]
  },
  {
   "cell_type": "markdown",
   "id": "b8fd01b3-b0af-406f-bbac-eee7d2c2a3d2",
   "metadata": {},
   "source": [
    "`+` operator can be used to concatenate multiple strings:\n"
   ]
  },
  {
   "cell_type": "code",
   "execution_count": null,
   "id": "41f89a3c-3d47-4fb4-be02-dc346966384f",
   "metadata": {},
   "outputs": [],
   "source": [
    "# string concatenation:\n",
    "\n",
    "a = \"Hello\"\n",
    "b = \"World\"\n",
    "print(a + \" \" + b)\t\t# returns 'Hello World!'\n"
   ]
  },
  {
   "cell_type": "markdown",
   "id": "353fcd1e-eafb-4ebe-abcc-4faa3a487039",
   "metadata": {},
   "source": [
    "- string formatting\n",
    "\n",
    "String formatting refers to the process of creating a string variable that contains other data types.\n",
    "\n",
    "One way to implement string formatting is by combining casting and concatenation:\n"
   ]
  },
  {
   "cell_type": "code",
   "execution_count": null,
   "id": "277e2d24-7e5e-46fe-ab37-0b8997786e44",
   "metadata": {},
   "outputs": [],
   "source": [
    "# string formatting (inserting numerals):\n",
    "x = 5\n",
    "\n",
    "# inserting with casting:\n",
    "print(\"I have \" + str(x) + \" apples\")\n"
   ]
  },
  {
   "cell_type": "markdown",
   "id": "7bb63603-05f8-4009-8289-a3288868a766",
   "metadata": {},
   "source": [
    "However, you could use the `format()` function which provides an easier implementation:\n"
   ]
  },
  {
   "cell_type": "code",
   "execution_count": null,
   "id": "b0fb47f1-2315-4b7b-9108-5e90cb65aae1",
   "metadata": {},
   "outputs": [],
   "source": [
    "# string formatting (inserting numerals):\n",
    "x = 5\n",
    "y = 10\n",
    "\n",
    "# inserting with string format method:\n",
    "print(\"I have {} apples\".format(x))\n",
    "print(\"I have {} apples and {} oranges\".format(x, y))\n"
   ]
  },
  {
   "cell_type": "markdown",
   "id": "fc71cce1-1579-48df-ab1a-accaecf17c88",
   "metadata": {},
   "source": [
    "- Character escaping\n",
    "\n",
    "If you'd like to insert a special character in a python string, you need to use proper character escaping:\n",
    "\n",
    "Special characters:\n",
    "\n",
    "`\\’\t\\”\t\\\\\t\\n\t\\t`\n",
    "\n"
   ]
  },
  {
   "cell_type": "markdown",
   "id": "40123706-5cfe-4171-ac9a-bb64f423da10",
   "metadata": {
    "tags": []
   },
   "source": [
    "---\n",
    "\n",
    "### 1.08 Booleans\n",
    "\n",
    "In programming, a common practice is use of logical *expressions*. These *expressions* are basically questions which have a yes/no answer.\n",
    "\n",
    "The answer of these yes/no questions can guide the strategy we want to implement in our code.\n",
    "\n",
    "For example, you may want to read a user's input. Then check if it's valid (yes/no). If the input is valid or not, your strategy of what to do after that point changes.\n",
    "\n",
    "The output of this yes/no answers are normally stored in **Boolean** variables.\n",
    "\n",
    "In Python's language, a boolean variable is either `True` or `False`.\n"
   ]
  },
  {
   "cell_type": "markdown",
   "id": "dceeb065-618a-40eb-b0e7-acabf7624078",
   "metadata": {},
   "source": [
    "- equality/inequality\n",
    "\n",
    "The question of equality of two variables, is an example of a boolean yes/no question:\n"
   ]
  },
  {
   "cell_type": "code",
   "execution_count": null,
   "id": "209535dd-9d48-4fec-9b62-b0902f47b40b",
   "metadata": {},
   "outputs": [],
   "source": [
    "# Let's store two numbers inside variables\n",
    "\n",
    "a = 10\n",
    "b = 20\n"
   ]
  },
  {
   "cell_type": "code",
   "execution_count": null,
   "id": "904de0db-a385-4ee6-8815-7d47763f6e05",
   "metadata": {},
   "outputs": [],
   "source": [
    "# check if variables are equal:\n",
    "print(a == b)\t\t# False\n"
   ]
  },
  {
   "cell_type": "code",
   "execution_count": null,
   "id": "91259c02-c5a1-41b7-b20c-532c949b5983",
   "metadata": {},
   "outputs": [],
   "source": [
    "# check if one is lesser:\n",
    "print(a < b)\t\t# True\n"
   ]
  },
  {
   "cell_type": "code",
   "execution_count": null,
   "id": "cf439d40-9333-42e1-9abb-25ffc64f1951",
   "metadata": {},
   "outputs": [],
   "source": [
    "# check if one is greater:\n",
    "print(a > b)\t\t# False\n"
   ]
  },
  {
   "cell_type": "code",
   "execution_count": null,
   "id": "984eef0e-e39e-43d3-b5f0-5dac8f829721",
   "metadata": {},
   "outputs": [],
   "source": [
    "# check if variables are not equal:\n",
    "print(a != b)\t\t# True\n"
   ]
  },
  {
   "cell_type": "code",
   "execution_count": null,
   "id": "f0536a16-e66f-4e45-85c0-e195b2c96136",
   "metadata": {},
   "outputs": [],
   "source": [
    "# check if one is lesser or equal:\n",
    "print(a <= b)\t\t# True\n"
   ]
  },
  {
   "cell_type": "code",
   "execution_count": null,
   "id": "d8a0ec64-3d36-433e-97b7-f4d9be65cd6b",
   "metadata": {},
   "outputs": [],
   "source": [
    "# check if one is greater or equal:\n",
    "print(a >= b)\t\t# False\n"
   ]
  },
  {
   "cell_type": "markdown",
   "id": "15f2f6b6-ad43-4949-b387-248a7a45f83e",
   "metadata": {
    "tags": []
   },
   "source": [
    "---\n",
    "\n",
    "### 1.09 Operators\n",
    "\n",
    "Now that we are familiar with most basic data types python uses. Let's take a closer look at the operators python provides for manipulation of these basic data types.\n"
   ]
  },
  {
   "cell_type": "markdown",
   "id": "c3ce6cb8-62d8-4ee4-9c20-170666bc1152",
   "metadata": {
    "tags": []
   },
   "source": [
    "---\n",
    "\n",
    "#### 1.09.1 Arithmetic operators\n",
    "\n",
    "Arithmetic operators are used for manipulation of numeral data\n",
    "\n",
    "| Operator | Function | Example |\n",
    "| --- | --- | --- |\n",
    "| Basic operators: |\n",
    "| `+` | Addition | `x + y` |\n",
    "| `-` | Subtraction | `x - y` |\n",
    "| `*` | Multiplication | `x * y` |\n",
    "| `/` | Division | `x / y` |\n",
    "| Othe operators: |\n",
    "| `%` | Modulus | `x % y` |\n",
    "| `**` | Exponentiation | `x ** y` |\n",
    "| `//` | Floor Division | `x // y` |\n"
   ]
  },
  {
   "cell_type": "markdown",
   "id": "7f2a723f-4c1a-452c-baa2-7e947367def8",
   "metadata": {
    "tags": []
   },
   "source": [
    "---\n",
    "\n",
    "#### 1.09.2 Assignment operators\n",
    "\n",
    "Assignment operators are used to assign or update the assignment of a variable.\n",
    "\n",
    "| Operator | Example | Equivalent |\n",
    "| --- | --- | --- |\n",
    "| Basic assignment: |\n",
    "| `=` | `x = 10` | |\n",
    "| Update assignment: |\n",
    "| `+=` | `x += 10` | `x = x + 10` |\n",
    "| `-=` | `x -= 10` | `x = x - 10` |\n",
    "| `*=` | `x *= 10` | `x = x * 10` |\n",
    "| `/=` | `x /= 10` | `x = x / 10` |\n",
    "\n"
   ]
  },
  {
   "cell_type": "markdown",
   "id": "c15289c3-7a0f-4ec6-abf5-95864e0f3215",
   "metadata": {
    "tags": []
   },
   "source": [
    "---\n",
    "\n",
    "#### 1.09.3 Comparison operators\n",
    "\n",
    "Comparison operators are used to check for equality and inequality of variables.\n",
    "\n",
    "| Operator | Meaning | Example |\n",
    "| --- | --- | --- |\n",
    "| `==` | is equal? | `x == 10` |\n",
    "| `!=` | is not equal? | `x != 10` |\n",
    "| `>=` | is greater or equal? | `x >= 10` |\n",
    "| `<=` | is lesser or equal? | `x <= 10` |\n",
    "| `>` | is greater? | `x > 10` |\n",
    "| `<` | is lesser? | `x < 10` |\n"
   ]
  },
  {
   "cell_type": "markdown",
   "id": "76a6cb66-0e4e-49a2-8638-28d7401abe31",
   "metadata": {
    "tags": []
   },
   "source": [
    "---\n",
    "\n",
    "#### 1.09.4 Logical operators\n",
    "\n",
    "Logical operators are used for Boolean data manipulation. This is very helpful when creating a logical expression:\n",
    "\n",
    "| Operator | Meaning | Example |\n",
    "| --- | --- | --- |\n",
    "| `and` | True if both are True | `x and y` |\n",
    "| `or` | True if at least one is True | `x or y` |\n",
    "| `not` | Reverse | `not x` |\n"
   ]
  },
  {
   "cell_type": "markdown",
   "id": "aff2ae6a-75e2-4614-8b00-3031944ba4e9",
   "metadata": {
    "tags": []
   },
   "source": [
    "---\n",
    "\n",
    "#### 1.09.5 Other useful operators\n",
    "\n",
    "\n",
    "| Operator | Meaning | Example |\n",
    "| --- | --- | --- |\n",
    "| `in` | Check if element is in a collection | `a in b` |\n",
    "| `not in` | Check if element is not in a collection | `a not in b` |\n"
   ]
  },
  {
   "cell_type": "markdown",
   "id": "3a818b39-33df-4cfa-80dc-fbf2792e3b34",
   "metadata": {
    "tags": []
   },
   "source": [
    "---\n",
    "\n",
    "### Other Data Types (collections)\n",
    "\n",
    "Now that we are familiar with the basic data types and commonly used operators, let's have a closer look at more complex data types. These are commonly called data structures and are different ways to store a collection of simple data types at one place.\n",
    "\n",
    "This table shows the main differences of four most important data structures used to store collection of items in python:\n",
    "\n",
    "| Data structure | Syntax | Description |\n",
    "| --- | --- | --- |\n",
    "| list | `[item1, item2, ...]` | ordered, changeable, duplicates allowed |\n",
    "| tuple | `(item1, item2, ...)` | ordered, unchangeable, duplicates allowed |\n",
    "| set | `{item1, item2, ...}` | unordered, unindexed, changeable, no duplicates |\n",
    "| dictionary | `{key1:item1, key2:item2, ...}` | unordered, indexed by key, changeable, no duplicate keys |\n",
    "\n"
   ]
  },
  {
   "cell_type": "markdown",
   "id": "3d0e64ef-1fb9-4808-b346-fe1060906c9c",
   "metadata": {
    "tags": []
   },
   "source": [
    "---\n",
    "\n",
    "### 1.10 Lists\n",
    "\n",
    "Lists are commonly used to store collection of items that we would like to be able to manipulate at a later point and that we have no specific structure for.\n",
    "\n",
    "Take a look at the example bellow:\n"
   ]
  },
  {
   "cell_type": "code",
   "execution_count": null,
   "id": "c1964af2-127f-4f3a-a066-0b9db30c957e",
   "metadata": {},
   "outputs": [],
   "source": [
    "# create a list\n",
    "\n",
    "thislist = [\"apple\", \"banana\", \"cherry\", \"orange\", \"kiwi\", \"melon\", \"mango\"]\n",
    "\n",
    "print(thislist)\n"
   ]
  },
  {
   "cell_type": "markdown",
   "id": "50c8136b-d972-4946-ab60-0e43b5a817ee",
   "metadata": {
    "tags": []
   },
   "source": [
    "#### 1.10.1 Indexing lists\n",
    "\n",
    "We've previously seen how indexing works on strings. We could apply the similar idea for indexing lists:\n",
    "\n",
    "Take a look at the example bellow:\n"
   ]
  },
  {
   "cell_type": "code",
   "execution_count": null,
   "id": "bbbeb371-1667-4e7d-9268-3a1762f8ed4e",
   "metadata": {},
   "outputs": [],
   "source": [
    "# second item: (0: first)\n",
    "print(thislist[1])\n"
   ]
  },
  {
   "cell_type": "code",
   "execution_count": null,
   "id": "c9c1a82f-823d-43e6-8040-1e936e9793b7",
   "metadata": {},
   "outputs": [],
   "source": [
    "# last item: (-1: last)\n",
    "print(thislist[-1])\n"
   ]
  },
  {
   "cell_type": "code",
   "execution_count": null,
   "id": "760f6f3c-86e2-4d13-88d3-a732b52752dc",
   "metadata": {},
   "outputs": [],
   "source": [
    "# select a slice:\n",
    "print(thislist[2:5])\n"
   ]
  },
  {
   "cell_type": "code",
   "execution_count": null,
   "id": "7d086b39-0c39-4582-9f9d-bff4480d0dbc",
   "metadata": {},
   "outputs": [],
   "source": [
    "# select a slice:\n",
    "print(thislist[2:])\n"
   ]
  },
  {
   "cell_type": "code",
   "execution_count": null,
   "id": "ac816303-c648-4cda-9cd2-e61a9212f1dd",
   "metadata": {},
   "outputs": [],
   "source": [
    "# select a slice:\n",
    "print(thislist[:5])\n"
   ]
  },
  {
   "cell_type": "code",
   "execution_count": null,
   "id": "50e7f6ee-2dbb-4e85-a760-7d140809f4cb",
   "metadata": {},
   "outputs": [],
   "source": [
    "# select a slice:\n",
    "print(thislist[:-2])\n"
   ]
  },
  {
   "cell_type": "markdown",
   "id": "2c897d0b-5cf7-4439-8adc-781a600ab067",
   "metadata": {
    "tags": []
   },
   "source": [
    "#### 1.10.2 Changing list values\n",
    "\n",
    "Since lists are changeable data structure we can update it's content after the original assignment.\n",
    "\n",
    "Take a look at the example bellow:\n"
   ]
  },
  {
   "cell_type": "code",
   "execution_count": null,
   "id": "8f57d22b-7128-42a7-b2da-9fe1e518be61",
   "metadata": {},
   "outputs": [],
   "source": [
    "# let's change the second item: (0: first)\n",
    "thislist[1] = \"blackcurrant\"\n",
    "\n",
    "print(thislist)\n"
   ]
  },
  {
   "cell_type": "markdown",
   "id": "d436532c-2d31-4fdd-8ba4-a7589d141d99",
   "metadata": {
    "tags": []
   },
   "source": [
    "#### 1.10.3 Check if item is in list\n",
    "\n",
    "Here's how you can check if something is inside the list:\n"
   ]
  },
  {
   "cell_type": "code",
   "execution_count": null,
   "id": "d56279e9-48b9-4397-807e-233d09b6706b",
   "metadata": {},
   "outputs": [],
   "source": [
    "print(\"cherry\" in thislist)\t\t# True\n"
   ]
  },
  {
   "cell_type": "code",
   "execution_count": null,
   "id": "f0b07b39-4218-48a2-9bcb-5722ac4147d6",
   "metadata": {},
   "outputs": [],
   "source": [
    "print(\"pear\" in thislist)\t\t# False\n"
   ]
  },
  {
   "cell_type": "markdown",
   "id": "247551e9-1383-4e50-967a-73fa78db0542",
   "metadata": {
    "tags": []
   },
   "source": [
    "#### 1.10.4 Check how many items are in the list\n",
    "\n",
    "Similar to strings you can use the `len()` function to check the size of the list:\n"
   ]
  },
  {
   "cell_type": "code",
   "execution_count": null,
   "id": "40fe0154-4a20-468f-9f0b-e88db9b70ffb",
   "metadata": {},
   "outputs": [],
   "source": [
    "print(len(thislist))\t\t# prints 7\n"
   ]
  },
  {
   "cell_type": "markdown",
   "id": "fe9c6c6b-df49-4919-9935-0eb9ca51bfef",
   "metadata": {
    "tags": []
   },
   "source": [
    "#### 1.10.4 Adding an item to the list\n",
    "\n",
    "You can use the `append()` function to add an item to the end of the list:\n"
   ]
  },
  {
   "cell_type": "code",
   "execution_count": null,
   "id": "33300c56-958c-46a2-9ffa-f6505989f111",
   "metadata": {},
   "outputs": [],
   "source": [
    "thislist.append(\"grape\")\n",
    "\n",
    "print(thislist)\n"
   ]
  },
  {
   "cell_type": "markdown",
   "id": "6eea8e03-8ec2-405b-9667-f039deebd6e1",
   "metadata": {},
   "source": [
    "You can also add an element to a specific position using the `insert()` function:"
   ]
  },
  {
   "cell_type": "code",
   "execution_count": null,
   "id": "c2f25696-ab80-45ce-aedc-48f89f356531",
   "metadata": {},
   "outputs": [],
   "source": [
    "thislist.insert(1, \"apricot\")\n",
    "\n",
    "print(thislist)\n"
   ]
  },
  {
   "cell_type": "markdown",
   "id": "bbfddfe6-151a-4325-935c-db7084e15339",
   "metadata": {
    "tags": []
   },
   "source": [
    "#### 1.10.5 Deleting list items\n",
    "\n",
    "There are multiple ways that we could remove items from a list.\n",
    "\n",
    "On option is to use the `remove()` function. **NOTE**: this function raises an error if the item is not in the list.\n"
   ]
  },
  {
   "cell_type": "code",
   "execution_count": null,
   "id": "8dc142f9-3efc-4db4-9351-d443dc4f80ac",
   "metadata": {},
   "outputs": [],
   "source": [
    "thislist.remove(\"orange\")\t\t# removes only the first occurence, gives error if not existing\n",
    "\n",
    "print(thislist)\n"
   ]
  },
  {
   "cell_type": "markdown",
   "id": "73a0383a-4d5b-4527-a8b7-f770dd8cbdae",
   "metadata": {},
   "source": [
    "`pop()` can be used to remove only the last item:\n"
   ]
  },
  {
   "cell_type": "code",
   "execution_count": null,
   "id": "64bfe823-25e9-4c6b-9df6-439fe27e8513",
   "metadata": {},
   "outputs": [],
   "source": [
    "thislist.pop()\t\t\t\t# removes the last item\n",
    "\n",
    "print(thislist)\n"
   ]
  },
  {
   "cell_type": "markdown",
   "id": "35966fbc-3217-433f-839f-7b7b27b499f4",
   "metadata": {},
   "source": [
    "`del` can be used to remove by index:\n"
   ]
  },
  {
   "cell_type": "code",
   "execution_count": null,
   "id": "014cc323-73fc-48e4-9cb8-4f16f7fae69b",
   "metadata": {},
   "outputs": [],
   "source": [
    "del thislist[0]\t\t\t\t# remove by index\n",
    "\n",
    "print(thislist)\n"
   ]
  },
  {
   "cell_type": "markdown",
   "id": "9bfc6f80-cba2-4167-a661-bdfed210bef1",
   "metadata": {},
   "source": [
    "`clear()` can be used to remove all items from the list:\n"
   ]
  },
  {
   "cell_type": "code",
   "execution_count": null,
   "id": "2ea35008-50d1-4d3d-a53a-1d46f2b73e85",
   "metadata": {},
   "outputs": [],
   "source": [
    "thislist.clear()\t\t\t\t# remove all items\n",
    "\n",
    "print(thislist)\n"
   ]
  },
  {
   "cell_type": "markdown",
   "id": "4fddaca6-f198-42a1-9278-cd483fe95a90",
   "metadata": {
    "tags": []
   },
   "source": [
    "#### 1.10.6 Duplicating a list\n",
    "\n",
    "You may think that just like simple data types, you can copy/duplicate a list using a simple assignment:\n",
    "\n",
    "`list1 = list2`\n",
    "\n",
    "But this is in fact **WRONG**. As this assignment will create a new variable that is refering to the original list and not a duplicate. So changing one, also changes the other.\n",
    "\n",
    "You can use the `copy()` function for duplication of lists:"
   ]
  },
  {
   "cell_type": "code",
   "execution_count": null,
   "id": "b4dd22e3-628d-4c61-90a8-3f7617a7f724",
   "metadata": {},
   "outputs": [],
   "source": [
    "# create a list\n",
    "thislist = [\"apple\", \"banana\", \"cherry\", \"orange\", \"kiwi\", \"melon\", \"mango\"]\n",
    "\n",
    "mylist = thislist.copy()\n",
    "print(mylist)\t\t\t\t# mylist will be a copied replica.\n",
    "\t\t\t\t\t\t\t# (changing the copy will not change the original) \n"
   ]
  },
  {
   "cell_type": "markdown",
   "id": "aea542e1-6612-4825-b54e-5bf5566e00fa",
   "metadata": {},
   "source": [
    "Another way to duplicate a list is to recast the original list:\n"
   ]
  },
  {
   "cell_type": "code",
   "execution_count": null,
   "id": "c0ff5f75-7cb2-4814-91e4-7d34d517e0df",
   "metadata": {},
   "outputs": [],
   "source": [
    "# recats to duplicate\n",
    "mylist = list(thislist)\n",
    "\n",
    "print(mylist)\t\t\t\t# mylist will be a copied replica.\n",
    "\t\t\t\t\t\t\t# (changing the copy will not change the original) \n",
    "\t\t\t\t\t\t\t# I'd recommend using the copy() function instead of recasting as it makes more sense\n"
   ]
  },
  {
   "cell_type": "markdown",
   "id": "6fcb3acd-7c4b-4f92-aff2-b5192c5d7546",
   "metadata": {
    "tags": []
   },
   "source": [
    "#### 1.10.7 Combining lists\n",
    "\n",
    "You can combine the contents of two lists using the `+` operator:\n"
   ]
  },
  {
   "cell_type": "code",
   "execution_count": null,
   "id": "544518e0-40a0-4cc4-9451-fb47743d0de9",
   "metadata": {},
   "outputs": [],
   "source": [
    "# join 2 lists: \n",
    "list1 = [\"a\", \"b\" , \"c\"]\n",
    "list2 = [1, 2, 3]\n",
    "\n",
    "list3 = list1 + list2\n",
    "print(list3)\n"
   ]
  },
  {
   "cell_type": "markdown",
   "id": "b91abe2d-726d-47c1-9e6a-f565c112911c",
   "metadata": {
    "tags": []
   },
   "source": [
    "---\n",
    "\n",
    "### 1.11 Tuples\n",
    "\n",
    "Tuples are a less common variant of lists which act a little bit differntly. The main difference is that tuples are not changeable. So once defined, you cannot change them. The benefit is the tuples are hashable. Basically, they could be used as an index. (We'll get back to this when learning about dictionaries.)\n",
    "\n",
    "Take a look at the examples bellow:\n"
   ]
  },
  {
   "cell_type": "code",
   "execution_count": null,
   "id": "ba5f0a9d-aba8-4d52-bfe7-6de523371aae",
   "metadata": {},
   "outputs": [],
   "source": [
    "thistuple = (\"apple\", \"banana\", \"cherry\")\t# create a tuple\n",
    "\n",
    "print(thistuple)\n"
   ]
  },
  {
   "cell_type": "code",
   "execution_count": null,
   "id": "55ea818e-d6f7-4e5f-9a01-aebbb1fa81ca",
   "metadata": {},
   "outputs": [],
   "source": [
    "print(thistuple[1]) \t\t\t\t\t\t# access element\n"
   ]
  },
  {
   "cell_type": "code",
   "execution_count": null,
   "id": "2ab6c223-b0e5-4db5-9f4d-0ed81cb7c993",
   "metadata": {},
   "outputs": [],
   "source": [
    "print(\"apple\" in thistuple)\t\t\t\t\t# Check if it contains an element\n"
   ]
  },
  {
   "cell_type": "code",
   "execution_count": null,
   "id": "f98ee8bb-8d0f-4991-9b9d-dac6bcfcfe64",
   "metadata": {},
   "outputs": [],
   "source": [
    "len(thistuple)\t\t\t\t\t\t\t\t# Check the size\n"
   ]
  },
  {
   "cell_type": "code",
   "execution_count": null,
   "id": "edc051a9-2c47-4c9e-b14c-02d934cd9d1d",
   "metadata": {},
   "outputs": [],
   "source": [
    "thistuple[3] = \"orange\"\t\t\t\t\t\t# This will raise an error, tuples are unchangeable\n"
   ]
  },
  {
   "cell_type": "code",
   "execution_count": null,
   "id": "4732eede-0b93-4259-bd49-4765beb3496a",
   "metadata": {},
   "outputs": [],
   "source": [
    "tuple1 = (\"a\", \"b\" , \"c\")\n",
    "tuple2 = (1, 2, 3)\n",
    "\n",
    "tuple3 = tuple1 + tuple2\t\t\t\t\t# joins tuples\n",
    "print(tuple3)\n"
   ]
  },
  {
   "cell_type": "markdown",
   "id": "ef892ec7-adc3-4493-abe3-f9dddbbb2fd3",
   "metadata": {},
   "source": [
    "Here are some helpful basic use cases for tuples:\n"
   ]
  },
  {
   "cell_type": "code",
   "execution_count": null,
   "id": "9c75e328-2058-46c3-8fb3-5ce11fa97029",
   "metadata": {},
   "outputs": [],
   "source": [
    "# multiple assignments\n",
    "a, b = 3, 5\n"
   ]
  },
  {
   "cell_type": "code",
   "execution_count": null,
   "id": "7766c06d-0e73-4549-b511-8c47f55e86f1",
   "metadata": {},
   "outputs": [],
   "source": [
    "# swap in one line\n",
    "a, b = b, a\n"
   ]
  },
  {
   "cell_type": "markdown",
   "id": "470ae352-1459-434d-a103-e50f3dd1cd4c",
   "metadata": {
    "tags": []
   },
   "source": [
    "---\n",
    "\n",
    "### 1.12 Sets\n",
    "\n",
    "Sets serve a fundamentally different purpose in python. With sets, you can store a collection of items, that are changeable, unordered, and without duplicates.\n",
    "\n",
    "Take a look at the examples bellow:\n"
   ]
  },
  {
   "cell_type": "code",
   "execution_count": null,
   "id": "a1607d0a-43b1-482c-bc3c-da792898c916",
   "metadata": {},
   "outputs": [],
   "source": [
    "thisset = set()\t\t\t\t\t\t\t\t\t# create empty set\n"
   ]
  },
  {
   "cell_type": "code",
   "execution_count": null,
   "id": "3ab2f532-9a8d-4c68-ac7c-b6501bf43af8",
   "metadata": {},
   "outputs": [],
   "source": [
    "thisset = {\"apple\", \"banana\", \"cherry\"}\t\t\t# create a set with values\n"
   ]
  },
  {
   "cell_type": "markdown",
   "id": "2307620d-a767-4299-8242-061699c3d066",
   "metadata": {},
   "source": [
    "One of the benefits of sets compared to lists is that it is really efficient at checking if an item belongs to it or not.\n",
    "\n",
    "So if your purpose for creating a collection is to later check if an item was added to the collection, you should use sets instead of lists.\n"
   ]
  },
  {
   "cell_type": "code",
   "execution_count": null,
   "id": "0f3913f5-128b-49c9-8ce6-33d50f9062ce",
   "metadata": {},
   "outputs": [],
   "source": [
    "\"banana\" in thisset\t\t\t\t\t\t\t\t# check for item (very efficient)\n"
   ]
  },
  {
   "cell_type": "markdown",
   "id": "fe967830-c3a7-404c-af95-d5f58546d422",
   "metadata": {},
   "source": [
    "While sets share some functions with that of lists, they also have set specific functions:\n"
   ]
  },
  {
   "cell_type": "code",
   "execution_count": null,
   "id": "3a9b4edc-b7d6-43ea-823c-40e6df06625a",
   "metadata": {},
   "outputs": [],
   "source": [
    "thisset.add(\"orange\")\t\t\t\t\t\t\t# add an item\n"
   ]
  },
  {
   "cell_type": "code",
   "execution_count": null,
   "id": "31c0e774-5694-4412-8de3-f6157d9067dc",
   "metadata": {},
   "outputs": [],
   "source": [
    "thisset.update([\"orange\", \"mango\", \"grapes\"])\t# add multiple items\n"
   ]
  },
  {
   "cell_type": "code",
   "execution_count": null,
   "id": "f1559344-19ec-4692-8b88-51d76a11b246",
   "metadata": {},
   "outputs": [],
   "source": [
    "len(thisset)\t\t\t\t\t\t\t\t\t# get length\n"
   ]
  },
  {
   "cell_type": "code",
   "execution_count": null,
   "id": "c02b3ac5-0f2f-4865-bae2-65cafcc702be",
   "metadata": {},
   "outputs": [],
   "source": [
    "thisset.remove(\"banana\")\t\t\t\t\t\t# remove an item (raises error if missing)\n",
    "\n",
    "print(thisset)\n"
   ]
  },
  {
   "cell_type": "code",
   "execution_count": null,
   "id": "7e5d5453-6ccd-4408-a2aa-38abcc1379db",
   "metadata": {},
   "outputs": [],
   "source": [
    "thisset.discard(\"banana\")\t\t\t\t\t\t# remove an item (no error if missing)\n",
    "\n",
    "print(thisset)\n"
   ]
  },
  {
   "cell_type": "code",
   "execution_count": null,
   "id": "23ef464e-cadc-442d-a81c-1f99e084a840",
   "metadata": {},
   "outputs": [],
   "source": [
    "thisset.clear()\t\t\t\t\t\t\t\t\t# remove all items\n",
    "\n",
    "print(thisset)\n"
   ]
  },
  {
   "cell_type": "code",
   "execution_count": null,
   "id": "5a45df7d-d688-4926-ac14-627c4180cf1c",
   "metadata": {},
   "outputs": [],
   "source": [
    "set1 = {'a', 'b', 'c'}\n",
    "set2 = {'b', 'c', 'd'}\n",
    "\n",
    "set3 = set1.union(set2)\t\t\t\t\t\t\t# join/combine 2 sets\n",
    "\n",
    "print(set3)\n"
   ]
  },
  {
   "cell_type": "markdown",
   "id": "004ee936-edca-4c62-992a-a837293c9160",
   "metadata": {
    "tags": []
   },
   "source": [
    "---\n",
    "\n",
    "### 1.13 Dictionaries\n",
    "\n",
    "Dictionary is another very useful python data structure to store collection of items. In a dictionary, every item saved is a combination of a key and a value. The key should be a hashable unique identifier (there are no duplicate keys in a dictionary). The value assigned to a key can be any python data type.\n",
    "\n",
    "Take a look at the examples bellow:\n"
   ]
  },
  {
   "cell_type": "code",
   "execution_count": null,
   "id": "c0134e6d-70b6-4a42-9aeb-c54029ce2597",
   "metadata": {},
   "outputs": [],
   "source": [
    "thisdict = {}\t\t\t\t\t\t\t\t# create empty dictionary\n"
   ]
  },
  {
   "cell_type": "code",
   "execution_count": null,
   "id": "e43506a0-874f-43e1-bb4a-58a02976cc29",
   "metadata": {},
   "outputs": [],
   "source": [
    "thisdict = {\t\t\t\t\t\t\t\t# create a dictionary with key-value pairs\n",
    "    \"brand\": \"Ford\",\n",
    "    \"model\": \"Mustang\",\n",
    "    \"year\": 1964,\n",
    "}\n"
   ]
  },
  {
   "cell_type": "code",
   "execution_count": null,
   "id": "62647198-59fe-42ef-b3c2-e43b3303c288",
   "metadata": {},
   "outputs": [],
   "source": [
    "x = thisdict[\"model\"]\t\t\t\t\t\t# access value of a key (error if missing)\n",
    "\n",
    "print(x)\n"
   ]
  },
  {
   "cell_type": "code",
   "execution_count": null,
   "id": "8f2c9ab3-291a-44ae-ac5e-64b308c216f5",
   "metadata": {},
   "outputs": [],
   "source": [
    "x = thisdict.get(\"model\")\t\t\t\t\t# access value of a key (no error if missing, None instead)\n",
    "\n",
    "print(x)\n"
   ]
  },
  {
   "cell_type": "code",
   "execution_count": null,
   "id": "af68b3e5-8b50-429e-9cfe-2d33a6e03089",
   "metadata": {},
   "outputs": [],
   "source": [
    "x = thisdict.get(\"model\", \"unknown\")\t\t# return desired value if missing\n",
    "\n",
    "print(x)\n"
   ]
  },
  {
   "cell_type": "code",
   "execution_count": null,
   "id": "7e3fbfff-2edb-4165-843c-a68320beb5a1",
   "metadata": {},
   "outputs": [],
   "source": [
    "thisdict[\"year\"] = 2018\t\t\t\t\t\t# update/change a value\n",
    "\n",
    "print(thisdict)\n"
   ]
  },
  {
   "cell_type": "markdown",
   "id": "faa8ea8e-5e38-4fc1-80fe-5237b0508ab7",
   "metadata": {},
   "source": [
    "You can use the `keys()` function to get a list of all keys in a dictionary:\n"
   ]
  },
  {
   "cell_type": "code",
   "execution_count": null,
   "id": "a88027b9-b394-4a5c-9c04-a5039296adc8",
   "metadata": {},
   "outputs": [],
   "source": [
    "print(thisdict.keys())\t\t\t\t\t\t# get a list of all keys\n"
   ]
  },
  {
   "cell_type": "markdown",
   "id": "fed2e5bd-67aa-41ec-acbd-72b24c909741",
   "metadata": {},
   "source": [
    "Similarly, you can use the `values()` function to get a list of values in a dictionary:\n"
   ]
  },
  {
   "cell_type": "code",
   "execution_count": null,
   "id": "2ff58d0e-b1ed-4407-b1ef-5fa7a1ea2d82",
   "metadata": {},
   "outputs": [],
   "source": [
    "print(thisdict.values())\t\t\t\t\t# get a list of all values\n"
   ]
  },
  {
   "cell_type": "code",
   "execution_count": null,
   "id": "8f1ebc30-8185-4291-9266-b16f86e6eed9",
   "metadata": {},
   "outputs": [],
   "source": [
    "print(\"model\" in thisdict)\t\t\t\t\t# check if a key is existing\n"
   ]
  },
  {
   "cell_type": "code",
   "execution_count": null,
   "id": "db849947-314f-413b-bc25-cd4e23c6b2bc",
   "metadata": {},
   "outputs": [],
   "source": [
    "print(\"Ford\" in thisdict.values())\t\t\t# check if a value is existing\n"
   ]
  },
  {
   "cell_type": "code",
   "execution_count": null,
   "id": "034d13cc-849c-4dc2-b7a8-783bcd8098a3",
   "metadata": {},
   "outputs": [],
   "source": [
    "print(len(thisdict))\t\t\t\t\t\t# get number of keys in a dictionary\n"
   ]
  },
  {
   "cell_type": "code",
   "execution_count": null,
   "id": "7aaa582a-c7c8-4a78-b5e9-e5c43eb53c32",
   "metadata": {},
   "outputs": [],
   "source": [
    "thisdict[\"color\"] = \"red\"\t\t\t\t\t# add an item\n",
    "\n",
    "print(thisdict)\n"
   ]
  },
  {
   "cell_type": "code",
   "execution_count": null,
   "id": "76f8a728-48fe-4885-aea1-05186c97f8ca",
   "metadata": {},
   "outputs": [],
   "source": [
    "del thisdict[\"model\"]\t\t\t\t\t\t# remove an item (error if missing key)\n",
    "\n",
    "print(thisdict)\n"
   ]
  },
  {
   "cell_type": "code",
   "execution_count": null,
   "id": "99a42b49-1613-4e8e-83f7-8e201ef52d9f",
   "metadata": {},
   "outputs": [],
   "source": [
    "thisdict.pop(\"model\")\t\t\t\t\t\t# remove a key\n",
    "\n",
    "print(thisdict)\n"
   ]
  },
  {
   "cell_type": "code",
   "execution_count": null,
   "id": "c0785c0e-e431-47ab-834b-c1c4ea8e9119",
   "metadata": {},
   "outputs": [],
   "source": [
    "thisdict.clear()\t\t\t\t\t\t\t# remove all keys\n",
    "\n",
    "print(thisdict)\n"
   ]
  },
  {
   "cell_type": "code",
   "execution_count": null,
   "id": "9648ba5e-e5cd-4df2-acee-99bd05e777f7",
   "metadata": {},
   "outputs": [],
   "source": [
    "mydict = thisdict.copy()\t\t\t\t\t# copy a replica\n"
   ]
  },
  {
   "cell_type": "markdown",
   "id": "bbc20cb6-6585-41d4-b5d0-d26cf0479b20",
   "metadata": {},
   "source": [
    "**Idea**: All these collections can be combined in whatever way you deem fit. For instance, you may want to have nested dictionaries (a dictionary inside another)!\n",
    "\n",
    "Take a look at this example:\n"
   ]
  },
  {
   "cell_type": "code",
   "execution_count": null,
   "id": "870a7661-7b43-4ad6-a585-93f27008b403",
   "metadata": {},
   "outputs": [],
   "source": [
    "# nested dictionaries:\n",
    "myfamily = {\n",
    "  \"child1\" : {\"name\" : \"Emil\", \"year\" : 2004},\n",
    "  \"child2\" : {\"name\" : \"Tobias\", \"year\" : 2007},\n",
    "  \"child3\" : {\"name\" : \"Linus\", \"year\" : 2011}\n",
    "}\n",
    "\n",
    "print(myfamily[\"child2\"][\"name\"])\n"
   ]
  },
  {
   "cell_type": "markdown",
   "id": "bebb7dca-7577-4a8e-9dc4-d20385be6e6b",
   "metadata": {
    "tags": []
   },
   "source": [
    "---\n",
    "\n",
    "### Code execution\n",
    "\n",
    "Python is an interpreter programming language. This basically means that python will not compile your code before execution. It will simply read the code line-by-line and does what your asking it to do:\n",
    "\n",
    "<img src=\"../static/lines.png\" alt=\"lines\" style=\"width: 80px;\"/>\n",
    "\n",
    "Now, to make coding interesting, we need to find ways to introduce branches and different pathes to go.\n",
    "\n",
    "**Note**: In python the indents are important. Python uses the indents to figure out how to handle branches in execution.\n"
   ]
  },
  {
   "cell_type": "markdown",
   "id": "84dada58-b1bf-46a9-b9b6-d0c24f9fb48b",
   "metadata": {
    "tags": []
   },
   "source": [
    "---\n",
    "\n",
    "### 1.14 Conditional statements\n",
    "\n",
    "A conditional statement is the simplest method to introduce an execution branch:\n",
    "\n",
    "<img src=\"../static/if.png\" alt=\"conditional\" style=\"width: 400px;\"/>\n",
    "\n"
   ]
  },
  {
   "cell_type": "markdown",
   "id": "64a74da3-f952-40bc-abbe-3d93bf733ab4",
   "metadata": {},
   "source": [
    "Python has three keywords that can be used and combined to produce conditional statement branching:\n",
    "\n",
    "`if`, `elif`, and `else`\n",
    "\n",
    "Here's the general syntax (pay attention to the indents):\n",
    "\n",
    "```python\n",
    "# if starts a conditional statement\n",
    "if condition:\n",
    "    indented lines to go through\n",
    "\n",
    "# elif can be used for chained conditions (optional)\n",
    "elif other_condition:\n",
    "    indented lines to go through\n",
    "\n",
    "# else can be used to explain what to do if none of the previous conditions were True (optional)\n",
    "else:\n",
    "    indented lines to go through\n",
    "```\n",
    "\n",
    "Have a look at the examples below on how to use conditional statements:\n"
   ]
  },
  {
   "cell_type": "code",
   "execution_count": null,
   "id": "983e8ead-d87b-4232-8d09-909a7862485a",
   "metadata": {},
   "outputs": [],
   "source": [
    "# How to use conditionals:\n",
    "\n",
    "a = 33\n",
    "b = 200\n",
    "\n",
    "if b > a:\n",
    "    print(\"b is greater than a\")\n"
   ]
  },
  {
   "cell_type": "code",
   "execution_count": null,
   "id": "55702a6d-1bfa-4d40-8d65-896e3a84aa31",
   "metadata": {},
   "outputs": [],
   "source": [
    "# How to use conditionals:\n",
    "\n",
    "a = 23\n",
    "b = 23\n",
    "\n",
    "if b > a:\n",
    "    print(\"b is greater than a\")\n",
    "\n",
    "elif a == b:\n",
    "    print(\"a and b are equal\")\n",
    "\n"
   ]
  },
  {
   "cell_type": "code",
   "execution_count": null,
   "id": "7964efd3-9f46-4d28-b596-b35b6f1f3077",
   "metadata": {},
   "outputs": [],
   "source": [
    "# How to use conditionals:\n",
    "\n",
    "a = 330\n",
    "b = 200\n",
    "\n",
    "if b > a:\n",
    "    print(\"b is greater than a\")\n",
    "\n",
    "elif a == b:\n",
    "    print(\"a and b are equal\")\n",
    "\n",
    "else:\n",
    "    print(\"a is greater than b\")\n",
    "\n"
   ]
  },
  {
   "cell_type": "code",
   "execution_count": null,
   "id": "e6e5aac8-ed4f-42f5-a293-83bc4bd96859",
   "metadata": {},
   "outputs": [],
   "source": [
    "# How to use conditionals:\n",
    "\n",
    "a = 330\n",
    "b = 200\n",
    "\n",
    "if b > a:\n",
    "    print(\"b is greater than a\")\n",
    "\n",
    "else:\n",
    "    print(\"a is not smaller than b\")\n"
   ]
  },
  {
   "cell_type": "markdown",
   "id": "d8ea2f58-7db1-4d85-a27d-41b3cc859e3d",
   "metadata": {},
   "source": [
    "- one line conditional statements\n",
    "\n",
    "Python provides the option to write one line conditional statements. If these are used properly in your code, you can save time in writing and also have a more readable script.\n",
    "\n",
    "Take a look at the example below (note: one line conditionals is best used in moderation):\n"
   ]
  },
  {
   "cell_type": "code",
   "execution_count": null,
   "id": "70e46731-bca9-4219-8c56-3b62f61be766",
   "metadata": {},
   "outputs": [],
   "source": [
    "print(\"A\") if a > b else print(\"B\")\n"
   ]
  },
  {
   "cell_type": "code",
   "execution_count": null,
   "id": "75f6345b-63d4-4d99-bab4-ee21338ec653",
   "metadata": {},
   "outputs": [],
   "source": [
    "print(\"A\") if a > b else print(\"=\") if a == b else print(\"B\")\n"
   ]
  },
  {
   "cell_type": "markdown",
   "id": "db71d260-ca9d-414b-acf3-7fe522ead350",
   "metadata": {},
   "source": [
    "- combining conditionals\n",
    "\n",
    "You can use logical operators to combine multiple conditions in a conditional statement.\n",
    "\n",
    "Take a look at the example below:"
   ]
  },
  {
   "cell_type": "code",
   "execution_count": null,
   "id": "3a27f078-c6c7-441a-82ec-39d2fe48e153",
   "metadata": {},
   "outputs": [],
   "source": [
    "# How to combine conditionals with logical operators\n",
    "\n",
    "a = 10\n",
    "b = 5\n",
    "c = 20\n"
   ]
  },
  {
   "cell_type": "code",
   "execution_count": null,
   "id": "32730a39-4e71-41fa-90eb-6c5c53e65614",
   "metadata": {},
   "outputs": [],
   "source": [
    "if a > b and c > a:\n",
    "    print(\"Both conditions are True\")\n",
    "\n"
   ]
  },
  {
   "cell_type": "code",
   "execution_count": null,
   "id": "ad3a4b6d-6e9d-4136-95a7-ba3de6c867a4",
   "metadata": {},
   "outputs": [],
   "source": [
    "if a > b or a > c:\n",
    "    print(\"At least one of the conditions are True\")\n",
    "\n"
   ]
  },
  {
   "cell_type": "markdown",
   "id": "23d12e3c-b983-470e-a2ad-824a02083e73",
   "metadata": {},
   "source": [
    "- nested conditionals\n",
    "\n",
    "You may also use nested conditionals if you need further branching in your code:\n"
   ]
  },
  {
   "cell_type": "code",
   "execution_count": null,
   "id": "d84d9631-7a5e-465a-8c00-e4030f339cbb",
   "metadata": {},
   "outputs": [],
   "source": [
    "# nested conditionals:\n",
    "x = 15\n",
    "\n",
    "if x > 10:\n",
    "    print(\"Above ten,\")\n",
    "    if x > 20:\n",
    "        print(\"and also above 20!\")\n",
    "    else:\n",
    "        print(\"but not above 20.\")\n"
   ]
  },
  {
   "cell_type": "code",
   "execution_count": null,
   "id": "491f9316-1724-4c2c-a4ed-a3888e31be85",
   "metadata": {},
   "outputs": [],
   "source": [
    "# small note: use pass to avoid getting an error\n",
    "if b > a:\n",
    "    pass\n"
   ]
  },
  {
   "cell_type": "markdown",
   "id": "f68db88a-3361-4d6c-923b-f9d5ec351953",
   "metadata": {
    "tags": []
   },
   "source": [
    "---\n",
    "\n",
    "### Loops\n",
    "\n",
    "What if you wanted to run part of your code multiple times?\n",
    "\n",
    "That's when the idea of loops comes in handy.\n",
    "\n",
    "<img src=\"../static/loop.png\" alt=\"loops\" style=\"width: 400px;\"/>\n",
    "\n"
   ]
  },
  {
   "cell_type": "markdown",
   "id": "a534800f-a91a-4ef0-954e-45ec37df1f6f",
   "metadata": {
    "tags": []
   },
   "source": [
    "---\n",
    "\n",
    "### 1.15 While loops\n",
    "\n",
    "While loops will repeat execution of a list of statements until a condition is met:\n",
    "\n",
    "There are three key terms used: `while`, `break`, and `continue`\n",
    "\n",
    "Here's a sample code showing the syntax of a while loop:\n",
    "\n",
    "```python\n",
    "while condition:\n",
    "    indented lines to execute\n",
    "    continue  # (optional) if used, will skip execution of the rest of the lines\n",
    "    break  # (optional) if used, will jump out of the loop\n",
    "```\n",
    "\n",
    "Take a look at the examples below:\n"
   ]
  },
  {
   "cell_type": "code",
   "execution_count": null,
   "id": "c21b03bb-e47a-4073-83a3-c5bdf71fa38b",
   "metadata": {},
   "outputs": [],
   "source": [
    "# simple while loop:\n",
    "\n",
    "i = 1\n",
    "\n",
    "while i < 6:\n",
    "    print(i)\n",
    "    i += 1\n"
   ]
  },
  {
   "cell_type": "code",
   "execution_count": null,
   "id": "90a176e4-65d3-4504-8c3a-a0011b439238",
   "metadata": {},
   "outputs": [],
   "source": [
    "# break statement is used to end the loop before meeting condition:\n",
    "\n",
    "i = 1\n",
    "\n",
    "while i < 6:\n",
    "    print(i)\n",
    "    if i == 3:\n",
    "        break\n",
    "    i += 1\n"
   ]
  },
  {
   "cell_type": "code",
   "execution_count": null,
   "id": "d9804442-3220-494a-b3b2-98e80675c8ab",
   "metadata": {},
   "outputs": [],
   "source": [
    "# continue statement is used to skip the current iteration of the loop\n",
    "\n",
    "i = 0\n",
    "\n",
    "while i < 6:\n",
    "    i += 1\n",
    "    if i == 3:\n",
    "        continue\n",
    "    print(i)\n",
    "\n"
   ]
  },
  {
   "cell_type": "markdown",
   "id": "5c6a1784-3c9f-450c-bd63-0aab4169dd68",
   "metadata": {
    "tags": []
   },
   "source": [
    "---\n",
    "\n",
    "### 1.16 For loops\n",
    "\n",
    "In python, for loops are commonly used to iterate over an iterable class (list, dictionary, string, etc).\n",
    "\n",
    "You could simply use for loops to run some commands for every element of the iterable class.\n",
    "\n",
    "There are four key terms used in python for loops: `for`, `in`, `continue`, and `break`\n",
    "\n",
    "Here's what the syntax looks like:\n",
    "\n",
    "```python\n",
    "for item in collection:\n",
    "    indented lines to specify what to do\n",
    "    continue  # (optional) if used, will skip execution of the rest of the indented lines\n",
    "    break  # (optional) if used, will jump out of the loop\n",
    "```\n",
    "\n",
    "Take a look at the examples below:\n"
   ]
  },
  {
   "cell_type": "code",
   "execution_count": null,
   "id": "fcef73f6-dc1f-49d4-a502-7aa75ab6813a",
   "metadata": {},
   "outputs": [],
   "source": [
    "# iterate over a list with for loop\n",
    "\n",
    "fruits = [\"apple\", \"banana\", \"cherry\"]\n",
    "\n",
    "for fruit in fruits:\n",
    "    print(fruits)\n"
   ]
  },
  {
   "cell_type": "code",
   "execution_count": null,
   "id": "cb61edde-af6a-472a-b05f-6a5b169481eb",
   "metadata": {},
   "outputs": [],
   "source": [
    "# iterate over a string\n",
    "\n",
    "for x in \"banana\":\n",
    "    print(x)\n"
   ]
  },
  {
   "cell_type": "code",
   "execution_count": null,
   "id": "b504535a-53be-49e9-b832-a5a2f5958486",
   "metadata": {},
   "outputs": [],
   "source": [
    "# loop through a dictionary\n",
    "\n",
    "# create a dictionary with key-value pairs\n",
    "thisdict = {\"brand\": \"Ford\", \"model\": \"Mustang\", \"year\": 1964}\n",
    "\n",
    "# loop through all keys\n",
    "for x in thisdict:\n",
    "    print(\"{} is {}\".format(x, thisdict[x]))\n"
   ]
  },
  {
   "cell_type": "code",
   "execution_count": null,
   "id": "8bfe7314-f2e2-47a8-a095-12fdc33a2b96",
   "metadata": {},
   "outputs": [],
   "source": [
    "# loop through a dictionary\n",
    "\n",
    "# create a dictionary with key-value pairs\n",
    "thisdict = {\"brand\": \"Ford\", \"model\": \"Mustang\", \"year\": 1964}\n",
    "\n",
    "# loop through all key-value pairs\n",
    "for x, y in thisdict.items():\n",
    "    print(\"{} is {}\".format(x, y))\n"
   ]
  },
  {
   "cell_type": "code",
   "execution_count": null,
   "id": "a0383ab1-ecb0-42a3-ac02-6b989ffad265",
   "metadata": {},
   "outputs": [],
   "source": [
    "# break statement to break out of a loop\n",
    "\n",
    "fruits = [\"apple\", \"banana\", \"cherry\"]\n",
    "\n",
    "for fruit in fruits:\n",
    "    print(fruit)\n",
    "    if fruit == \"banana\":\n",
    "        break\n"
   ]
  },
  {
   "cell_type": "code",
   "execution_count": null,
   "id": "1d05c825-81d1-4ca6-936d-fc964c2c301c",
   "metadata": {},
   "outputs": [],
   "source": [
    "# continue statement to skip over an iteration step\n",
    "\n",
    "fruits = [\"apple\", \"banana\", \"cherry\"]\n",
    "\n",
    "for x in fruits:\n",
    "    if x == \"banana\":\n",
    "        continue\n",
    "    print(x)\n"
   ]
  },
  {
   "cell_type": "markdown",
   "id": "fbfb1904-73bf-4e62-9f39-2c11197ef385",
   "metadata": {},
   "source": [
    "`range()` function can be used in combination with a for loop to iterate over a range of numbers:"
   ]
  },
  {
   "cell_type": "code",
   "execution_count": null,
   "id": "68c74fd9-40d2-4beb-9a21-575e0e7af742",
   "metadata": {},
   "outputs": [],
   "source": [
    "# range function to repeat something\n",
    "\n",
    "for x in range(6):\t\t\t\t\t# 0, 1, 2, 3, 4, 5\n",
    "    print(x)\n"
   ]
  },
  {
   "cell_type": "code",
   "execution_count": null,
   "id": "d654fd05-6869-4203-8e58-0ee4314ad285",
   "metadata": {},
   "outputs": [],
   "source": [
    "# range function to repeat something\n",
    "\n",
    "for x in range(2, 6):\t\t\t\t# start from 2: 2, 3, 4, 5\n",
    "    print(x)\n"
   ]
  },
  {
   "cell_type": "code",
   "execution_count": null,
   "id": "f2cc5445-dcd3-4a09-864c-a84f36850bf3",
   "metadata": {},
   "outputs": [],
   "source": [
    "# range function to repeat something\n",
    "\n",
    "for x in range(2, 30, 3):\t\t\t# step size of 3: 2, 5, 8, ...\n",
    "    print(x)\n"
   ]
  },
  {
   "cell_type": "markdown",
   "id": "3bc84ab7-febb-4c89-ac38-d0a0abb6f8f1",
   "metadata": {},
   "source": [
    "- nested for loops\n",
    "\n",
    "similar to other python branching commands, for loops can also be nested in other branching structures:"
   ]
  },
  {
   "cell_type": "code",
   "execution_count": null,
   "id": "2a4390a4-a1c1-4571-bbf3-08a853edba7f",
   "metadata": {},
   "outputs": [],
   "source": [
    "# nested for loops\n",
    "\n",
    "adjective = [\"red\", \"big\", \"tasty\"]\n",
    "fruits = [\"apple\", \"banana\", \"cherry\"]\n",
    "\n",
    "for x in adjective:\n",
    "    for y in fruits:\n",
    "        print(x, y)\n"
   ]
  },
  {
   "cell_type": "markdown",
   "id": "72056167-eb63-4b9f-b2d6-fd4cc8d26353",
   "metadata": {
    "tags": []
   },
   "source": [
    "---\n",
    "\n",
    "### 1.17 Functions\n",
    "\n",
    "In python, a function (also called a method) is used to create a blackbox, which accepts some inputs and returns the required output.\n",
    "\n",
    "To define a function, two terms are used: `def` and `return`\n",
    "\n",
    "Here's what the syntax looks like:\n",
    "\n",
    "```python\n",
    "def function_name(inputs):\n",
    "    indented lines to specify what to do\n",
    "    return outputs # (optional) in case the function will return any outputs\n",
    "```\n",
    "\n",
    "Take a look at the examples below:\n"
   ]
  },
  {
   "cell_type": "code",
   "execution_count": null,
   "id": "ebecb252-595e-4bec-915f-c9e51dc828a3",
   "metadata": {},
   "outputs": [],
   "source": [
    "# define a simple function\n",
    "\n",
    "def my_function():\n",
    "    print(\"Hello from a function\")\n"
   ]
  },
  {
   "cell_type": "code",
   "execution_count": null,
   "id": "564982f6-5a9f-4bb4-a694-e7ceb2e920c8",
   "metadata": {},
   "outputs": [],
   "source": [
    "# call the function\n",
    "my_function()\n",
    "\n"
   ]
  },
  {
   "cell_type": "code",
   "execution_count": null,
   "id": "04d0ed9d-5ee9-428b-a7fd-f9e53dcaf9be",
   "metadata": {},
   "outputs": [],
   "source": [
    "# a function with one input argument/parameter\n",
    "\n",
    "def my_function(fname):\n",
    "    print(\"Hello, \" + fname)\n"
   ]
  },
  {
   "cell_type": "code",
   "execution_count": null,
   "id": "b25f62c6-50e6-42d4-8f38-fb6a4565340e",
   "metadata": {},
   "outputs": [],
   "source": [
    "my_function(\"Kevin\")\n"
   ]
  },
  {
   "cell_type": "code",
   "execution_count": null,
   "id": "635cfb28-6641-43ff-b2da-e1ba0d884e62",
   "metadata": {},
   "outputs": [],
   "source": [
    "my_function(\"Joe\")\n"
   ]
  },
  {
   "cell_type": "code",
   "execution_count": null,
   "id": "3c1dd8b9-be7c-4d34-ba99-ca58f7f4bb97",
   "metadata": {},
   "outputs": [],
   "source": [
    "# a function with two input arguments/parameters\n",
    "\n",
    "def my_function(fname, lname):\n",
    "    print(\"Hello, {} {}\".format(fname, lname))\n"
   ]
  },
  {
   "cell_type": "code",
   "execution_count": null,
   "id": "21ac98bb-711c-4cf1-9bc1-62913e915790",
   "metadata": {},
   "outputs": [],
   "source": [
    "my_function(\"Jane\", \"Doe\")\n"
   ]
  },
  {
   "cell_type": "code",
   "execution_count": null,
   "id": "511a76f1-0c0f-4552-9141-820185202f55",
   "metadata": {},
   "outputs": [],
   "source": [
    "# multiple inputs as a list\n",
    "\n",
    "def my_function(*numbers):\n",
    "    print(\"The smallest number is {}\".format(min(numbers)))\n"
   ]
  },
  {
   "cell_type": "code",
   "execution_count": null,
   "id": "b9572eee-7604-429b-97a2-1ad3d2855863",
   "metadata": {},
   "outputs": [],
   "source": [
    "my_function(1, 2, 3)\n"
   ]
  },
  {
   "cell_type": "code",
   "execution_count": null,
   "id": "c735eade-74d2-4591-9a7d-67a821c0f5e8",
   "metadata": {},
   "outputs": [],
   "source": [
    "# inputs by keyword arguments\n",
    "\n",
    "def my_function(a, b, c):\n",
    "    print(\"a: {}, b: {}, c: {}\".format(a, b, c))\n"
   ]
  },
  {
   "cell_type": "code",
   "execution_count": null,
   "id": "ef5f02ff-13ee-4c9a-bb4d-5f6c07bd5908",
   "metadata": {},
   "outputs": [],
   "source": [
    "my_function(a = \"Kevin\", c = \"Joe\", b = \"Nick\")\n"
   ]
  },
  {
   "cell_type": "code",
   "execution_count": null,
   "id": "62a6bd8d-4fbe-4d3c-b8a6-d3a9dd60fd3a",
   "metadata": {},
   "outputs": [],
   "source": [
    "# arbitrary keyword arguments, used like a dictionary\n",
    "\n",
    "def my_function(**person):\n",
    "    print(\"The name is \" + person.get(\"name\", \"unknown\"))\n"
   ]
  },
  {
   "cell_type": "code",
   "execution_count": null,
   "id": "4ab523df-a1a9-4a35-8554-8c67db2a806b",
   "metadata": {},
   "outputs": [],
   "source": [
    "my_function(name = \"John\", age = 23)\n"
   ]
  },
  {
   "cell_type": "code",
   "execution_count": null,
   "id": "179c9098-1828-4acc-afeb-0561363e6742",
   "metadata": {},
   "outputs": [],
   "source": [
    "my_function(age = 23)\n"
   ]
  },
  {
   "cell_type": "code",
   "execution_count": null,
   "id": "de9e89d2-64fa-4f51-be1b-9ac62b3f5651",
   "metadata": {},
   "outputs": [],
   "source": [
    "# default parameter for a function\n",
    "\n",
    "def my_function(city = \"Melbourne\"):\n",
    "    print(\"I am in \" + city)\n"
   ]
  },
  {
   "cell_type": "code",
   "execution_count": null,
   "id": "d81ebe04-0e28-4944-b34f-92bc15cd0b32",
   "metadata": {},
   "outputs": [],
   "source": [
    "my_function(\"Perth\")\n"
   ]
  },
  {
   "cell_type": "code",
   "execution_count": null,
   "id": "be53d35b-47b2-431e-b0a6-5a5879890a78",
   "metadata": {},
   "outputs": [],
   "source": [
    "my_function()\n"
   ]
  },
  {
   "cell_type": "code",
   "execution_count": null,
   "id": "fe53e599-750d-4430-a8d0-7f3c1137a1af",
   "metadata": {},
   "outputs": [],
   "source": [
    "# function with a return value\n",
    "\n",
    "def my_function(x):\n",
    "    return (5 * x)\n"
   ]
  },
  {
   "cell_type": "code",
   "execution_count": null,
   "id": "d473814e-3deb-43a2-bd6f-238a624542c6",
   "metadata": {},
   "outputs": [],
   "source": [
    "a = my_function(5)\n",
    "\n",
    "print(a)\n"
   ]
  },
  {
   "cell_type": "code",
   "execution_count": null,
   "id": "e2b484ea-5400-4ecd-91ed-62e89841b9f2",
   "metadata": {},
   "outputs": [],
   "source": [
    "# recursion (calling a function within itself)\n",
    "\n",
    "def countdown(x):\n",
    "    if (x > 0):\n",
    "        print(x)\n",
    "        countdown(x-1)\n",
    "    else:\n",
    "        print('boom!')\n"
   ]
  },
  {
   "cell_type": "code",
   "execution_count": null,
   "id": "80886f5c-894a-4445-9ea3-a46a1183b5ad",
   "metadata": {},
   "outputs": [],
   "source": [
    "countdown(5)\n"
   ]
  },
  {
   "cell_type": "markdown",
   "id": "9f9b7469-8c13-4825-a010-c2eeafaed018",
   "metadata": {
    "tags": []
   },
   "source": [
    "---\n",
    "\n",
    "### Get creative!\n",
    "\n",
    "<img src=\"../static/lego.jpg\" alt=\"lego\" style=\"width: 1200px;\"/>\n",
    "\n"
   ]
  },
  {
   "cell_type": "markdown",
   "id": "179f4202-83a7-48ad-88d6-41de0991a912",
   "metadata": {
    "tags": []
   },
   "source": [
    "## 02. Short Live Coding Challenge\n",
    "\n",
    "---\n"
   ]
  },
  {
   "cell_type": "code",
   "execution_count": null,
   "id": "8e8b3fba-eeb9-465f-9ee0-ea35402b4270",
   "metadata": {},
   "outputs": [],
   "source": []
  }
 ],
 "metadata": {
  "kernelspec": {
   "display_name": "Python 3 (ipykernel)",
   "language": "python",
   "name": "python3"
  },
  "language_info": {
   "codemirror_mode": {
    "name": "ipython",
    "version": 3
   },
   "file_extension": ".py",
   "mimetype": "text/x-python",
   "name": "python",
   "nbconvert_exporter": "python",
   "pygments_lexer": "ipython3",
   "version": "3.8.10"
  }
 },
 "nbformat": 4,
 "nbformat_minor": 5
}
